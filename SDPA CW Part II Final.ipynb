{
 "cells": [
  {
   "cell_type": "markdown",
   "metadata": {},
   "source": [
    "# Welcome to my sorting algorithm"
   ]
  },
  {
   "cell_type": "code",
   "execution_count": 17,
   "metadata": {},
   "outputs": [
    {
     "name": "stdout",
     "output_type": "stream",
     "text": [
      "[2, 1, 2, 5, 7, 1, 9, 3, 6, 8, 8] [2, 1, 8, 3]\n"
     ]
    }
   ],
   "source": [
    "import numpy as np\n",
    "L1 =    [2, 1, 2, 5, 7, 1, 9, 3, 6, 8, 8]#np.random.randint(1,9,size=100)\n",
    "L2 =   [2,1,8,3]#np.random.randint(1,5,size=4)\n",
    "\n",
    "print(L1,L2)"
   ]
  },
  {
   "cell_type": "markdown",
   "metadata": {},
   "source": [
    "What if L2 has repeated elements eg: [2, 1, 2, 4]?"
   ]
  },
  {
   "cell_type": "markdown",
   "metadata": {},
   "source": [
    "Throw error"
   ]
  },
  {
   "cell_type": "code",
   "execution_count": 18,
   "metadata": {},
   "outputs": [],
   "source": [
    "def sorter(L1,L2):\n",
    "    working_list=L1\n",
    "    for i in range(len(L2)):\n",
    "        working_list = sorted(working_list, key=lambda item: (item==L2[i]))\n",
    "    working_list_copy=working_list.copy()\n",
    "    appendix=[]\n",
    "    for i in range(len(L1)):\n",
    "        item=working_list[i]\n",
    "        if item!=L2[0]:\n",
    "            appendix.append(item)\n",
    "            working_list_copy.remove(item)\n",
    "        else:break\n",
    "    sorted_appendix=sorted(appendix)\n",
    "    sorted_list=working_list_copy+sorted_appendix\n",
    "    return sorted_list"
   ]
  },
  {
   "cell_type": "code",
   "execution_count": 19,
   "metadata": {},
   "outputs": [
    {
     "data": {
      "text/plain": [
       "array([2, 2, 1, 1, 8, 8, 3, 5, 6, 7, 9])"
      ]
     },
     "execution_count": 19,
     "metadata": {},
     "output_type": "execute_result"
    }
   ],
   "source": [
    "np.transpose(sorter(L1,L2))"
   ]
  },
  {
   "cell_type": "markdown",
   "metadata": {},
   "source": [
    "#### What is the complexity of this sorting algorithm?"
   ]
  },
  {
   "cell_type": "markdown",
   "metadata": {},
   "source": [
    "The built-in sorting algorithm of Python uses a special version of merge sort, called Timsort, which runs in  nlogn time. The sort function is nested within a for-loop of time complexity O(m). The following for-loop exhibits a time complecity of O(q), where q is the number of elements processed before the loop is broken. The final sort function corresponds to O(plogp), where p is the number of elements in the appendix variable.\n",
    "\n",
    "$O(nlogn) * O(m) + O(q) + O(plogp) = O(m*nlogn + q + plogp)$"
   ]
  },
  {
   "cell_type": "markdown",
   "metadata": {},
   "source": [
    "#### How is the complexity affected if L2 is much larger than L1? And what if they are of the same size?\n"
   ]
  },
  {
   "cell_type": "markdown",
   "metadata": {},
   "source": [
    "When L2 and L1 are the same size:  $m = n$"
   ]
  },
  {
   "cell_type": "markdown",
   "metadata": {},
   "source": [
    "The time complexity reduces to: \n"
   ]
  },
  {
   "cell_type": "markdown",
   "metadata": {},
   "source": [
    "$O(n^2log(n))$, as $O(q)<O(plog(p))<O(n^2log(n))$"
   ]
  },
  {
   "cell_type": "code",
   "execution_count": 56,
   "metadata": {},
   "outputs": [
    {
     "data": {
      "text/plain": [
       "[<matplotlib.lines.Line2D at 0x1944fd2e240>]"
      ]
     },
     "execution_count": 56,
     "metadata": {},
     "output_type": "execute_result"
    },
    {
     "data": {
      "image/png": "[encoded data removed]",
      "text/plain": [
       "<Figure size 432x288 with 1 Axes>"
      ]
     },
     "metadata": {
      "needs_background": "light"
     },
     "output_type": "display_data"
    }
   ],
   "source": [
    "import matplotlib.pyplot as plt\n",
    "import math\n",
    "y_1=[]\n",
    "y_2=[]\n",
    "for n in range(1,50):\n",
    "        y_1.append(n**2*math.log(n))\n",
    "        y_2.append(n*math.log(n))\n",
    "plt.plot(y_1)\n",
    "plt.plot(y_2)"
   ]
  },
  {
   "cell_type": "markdown",
   "metadata": {},
   "source": [
    "A much larger L2 reduces the time complexity to: \n",
    "O(m*nlogn + plogp) = O(m*nlogn)"
   ]
  },
  {
   "cell_type": "markdown",
   "metadata": {},
   "source": [
    "A time complexity of O(m*nlogn) is poor in comparison to the average complexity of O(nlogb) for most of the commonly used sorting algorithms. "
   ]
  },
  {
   "cell_type": "code",
   "execution_count": 75,
   "metadata": {},
   "outputs": [
    {
     "data": {
      "text/plain": [
       "array([0, 6, 1, 4, 5])"
      ]
     },
     "execution_count": 75,
     "metadata": {},
     "output_type": "execute_result"
    }
   ],
   "source": [
    "np.random.randint(9,size=5)\n"
   ]
  },
  {
   "cell_type": "code",
   "execution_count": null,
   "metadata": {},
   "outputs": [],
   "source": []
  },
  {
   "cell_type": "code",
   "execution_count": null,
   "metadata": {},
   "outputs": [],
   "source": []
  }
 ],
 "metadata": {
  "kernelspec": {
   "display_name": "Python 3",
   "language": "python",
   "name": "python3"
  },
  "language_info": {
   "codemirror_mode": {
    "name": "ipython",
    "version": 3
   },
   "file_extension": ".py",
   "mimetype": "text/x-python",
   "name": "python",
   "nbconvert_exporter": "python",
   "pygments_lexer": "ipython3",
   "version": "3.8.3"
  }
 },
 "nbformat": 4,
 "nbformat_minor": 4
}
