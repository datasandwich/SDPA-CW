{
 "cells": [
  {
   "cell_type": "markdown",
   "metadata": {},
   "source": [
    "# Analyzing Museum Types in Capital Cities"
   ]
  },
  {
   "cell_type": "markdown",
   "metadata": {},
   "source": [
    "### Importing libraries"
   ]
  },
  {
   "cell_type": "code",
   "execution_count": 2,
   "metadata": {},
   "outputs": [],
   "source": [
    "import pandas as pd\n",
    "import requests\n",
    "import matplotlib as mpl\n",
    "import matplotlib.pyplot as plt\n",
    "%matplotlib inline\n",
    "mpl.style.use(['seaborn'])\n",
    "import seaborn as sns\n",
    "sns.set()\n"
   ]
  },
  {
   "cell_type": "markdown",
   "metadata": {},
   "source": [
    "# Step 1"
   ]
  },
  {
   "cell_type": "markdown",
   "metadata": {},
   "source": [
    "### Setting up API "
   ]
  },
  {
   "cell_type": "code",
   "execution_count": 19,
   "metadata": {},
   "outputs": [],
   "source": [
    "# Foursquare API credentials and endpoint\n",
    "CLIENT_ID = 'IOA5YBXOBJVEC4MN4SWHAVNCSU1QEBCMURQOGNRT0ZYFMZUT'\n",
    "\n",
    "# your client ID\n",
    "CLIENT_SECRET = 'IIHNVIZLDC0MZZGEY3GA1HMGQQKYXO2YLGOVVIR1UEBQ1IIY'\n",
    "\n",
    "# your client secret\n",
    "VERSION = '20210118' # put today's date\n",
    "URL = 'https://api.foursquare.com/v2/venues/explore?&client_id={}&client_secret={}&v={}&limit={}'.format(CLIENT_ID, CLIENT_SECRET, VERSION, 5000)\n"
   ]
  },
  {
   "cell_type": "markdown",
   "metadata": {},
   "source": [
    "### Obtain list of capital cities from Github "
   ]
  },
  {
   "cell_type": "code",
   "execution_count": 20,
   "metadata": {},
   "outputs": [],
   "source": [
    "# List of capital cities to be explored\n",
    "cities_csv=pd.read_csv(\"https://raw.githubusercontent.com/icyrockcom/country-capitals/master/data/country-list.csv\")\n",
    "cities_csv=pd.DataFrame(cities_csv)\n",
    "cities=[]\n",
    "for i in range(len(cities_csv)):\n",
    "        cities.append(cities_csv.iloc[i,1]+\", \"+cities_csv.iloc[i,0])\n"
   ]
  },
  {
   "cell_type": "code",
   "execution_count": null,
   "metadata": {},
   "outputs": [],
   "source": []
  },
  {
   "cell_type": "markdown",
   "metadata": {},
   "source": [
    "### Data Retrieval"
   ]
  },
  {
   "cell_type": "markdown",
   "metadata": {},
   "source": [
    "The following code has been borrowed in large part from: https://gist.github.com/gbarreiro/a7e94cc7332bda25ec182370d462b7af#file-bestcuisines_get_restaurants-py"
   ]
  },
  {
   "cell_type": "code",
   "execution_count": 23,
   "metadata": {},
   "outputs": [
    {
     "name": "stdout",
     "output_type": "stream",
     "text": [
      "                City  Museum type Number of museums\n",
      "0  Sukhumi, Abkhazia          Art                 0\n",
      "1  Sukhumi, Abkhazia       Erotic                 0\n",
      "2  Sukhumi, Abkhazia      History                 1\n",
      "3  Sukhumi, Abkhazia  Planetarium                 0\n",
      "4  Sukhumi, Abkhazia      Science                 0\n"
     ]
    }
   ],
   "source": [
    "# List of museum types (extracted from https://developer.foursquare.com/docs/build-with-foursquare/categories/)\n",
    "museum_types = {\n",
    "    'Art': '4bf58dd8d48988d18f941735', \n",
    "    'Erotic': '559acbe0498e472f1a53fa23', \n",
    "    'History': '4bf58dd8d48988d190941735',\n",
    "    'Planetarium': '4bf58dd8d48988d192941735',\n",
    "    'Science': '4bf58dd8d48988d191941735'\n",
    "    }\n",
    "\n",
    "\n",
    "museums = pd.DataFrame(columns=['City', 'Museum type', 'Number of museums']) # define the DataFrame where the results will be stored\n",
    "\n",
    "for city in cities:\n",
    "    for museum_type, category_id in museum_types.items():\n",
    "        # For each city, retrieve museum types from Foursquare...\n",
    "        query = requests.get(\"{url}&near={city}&categoryId={category_id}\".format(url=URL, city=city, category_id=category_id))\n",
    "        if query.status_code == 200:\n",
    "            number = query.json()['response']['totalResults']\n",
    "            museums = museums.append({\n",
    "                'City': city,\n",
    "                'Museum type': museum_type,\n",
    "                'Number of museums': number\n",
    "            }, ignore_index=True)\n",
    "\n",
    "print(museums.head())\n"
   ]
  },
  {
   "cell_type": "markdown",
   "metadata": {},
   "source": [
    "# Step 2"
   ]
  },
  {
   "cell_type": "markdown",
   "metadata": {},
   "source": [
    "### One-hot encoding\n"
   ]
  },
  {
   "cell_type": "markdown",
   "metadata": {},
   "source": [
    "The following code has been borrowed in large part from:https://gist.github.com/gbarreiro/6fbffd04bb8c0cd81b99510437f6056b#file-bestcuisines_transform_data-py"
   ]
  },
  {
   "cell_type": "code",
   "execution_count": 24,
   "metadata": {
    "scrolled": true
   },
   "outputs": [
    {
     "name": "stdout",
     "output_type": "stream",
     "text": [
      "                             Art  Erotic  History  Planetarium  Science\n",
      "City                                                                   \n",
      "Abuja, Nigeria                 0       0        0            0        0\n",
      "Accra, Ghana                   1       0        5            3        2\n",
      "Adamstown, Pitcairn Islands    0       0        0            0        0\n",
      "Addis Ababa, Ethiopia          1       0        6            0        0\n",
      "Algiers, Algeria               4       0        7            0        0\n"
     ]
    }
   ],
   "source": [
    "# One-hot encoding\n",
    "museums_onehot = pd.get_dummies(museums['Museum type'], prefix=\"\", prefix_sep=\"\")\n",
    "museums_onehot = museums_onehot.multiply(museums['Number of museums'], axis=0)\n",
    "museums_onehot = pd.concat([museums['City'], museums_onehot], axis=1)\n",
    "\n",
    "# Group by city\n",
    "museum_types_city = museums_onehot.groupby('City').sum().reset_index()\n",
    "museum_types_city = museum_types_city.set_index(keys='City')\n",
    "\n",
    "print(museum_types_city.head())\n",
    "\n"
   ]
  },
  {
   "cell_type": "markdown",
   "metadata": {},
   "source": [
    "### Normalisation"
   ]
  },
  {
   "cell_type": "code",
   "execution_count": 25,
   "metadata": {},
   "outputs": [
    {
     "name": "stdout",
     "output_type": "stream",
     "text": [
      "                              Art     Erotic    History  Planetarium  \\\n",
      "City                                                                   \n",
      "Accra, Ghana             9.090909   0.000000  45.454545    27.272727   \n",
      "Addis Ababa, Ethiopia   14.285714   0.000000  85.714286     0.000000   \n",
      "Algiers, Algeria        36.363636   0.000000  63.636364     0.000000   \n",
      "Amman, Jordan           25.000000   0.000000  75.000000     0.000000   \n",
      "Amsterdam, Netherlands  21.481481  33.333333  36.296296     4.444444   \n",
      "\n",
      "                          Science  \n",
      "City                               \n",
      "Accra, Ghana            18.181818  \n",
      "Addis Ababa, Ethiopia    0.000000  \n",
      "Algiers, Algeria         0.000000  \n",
      "Amman, Jordan            0.000000  \n",
      "Amsterdam, Netherlands   4.444444  \n"
     ]
    }
   ],
   "source": [
    "# Normalize the numbers\n",
    "museum_types_city_normalized = museum_types_city.div(museum_types_city.sum(axis=1), axis=0)\n",
    "museum_types_city_normalized = 100*museum_types_city_normalized\n",
    "\n",
    "# Dropping NaN \n",
    "df=museum_types_city_normalized.dropna()\n",
    "\n",
    "print(df.head())"
   ]
  },
  {
   "cell_type": "markdown",
   "metadata": {},
   "source": [
    "# Step 3"
   ]
  },
  {
   "cell_type": "markdown",
   "metadata": {},
   "source": [
    "## Obtain basic statistical properties of columns"
   ]
  },
  {
   "cell_type": "markdown",
   "metadata": {},
   "source": [
    "### Pre-normalisation"
   ]
  },
  {
   "cell_type": "code",
   "execution_count": 26,
   "metadata": {},
   "outputs": [
    {
     "name": "stdout",
     "output_type": "stream",
     "text": [
      "              Art      Erotic     History  Planetarium     Science\n",
      "count  196.000000  196.000000  196.000000   196.000000  196.000000\n",
      "mean     6.321429    0.464286   10.698980     1.127551    2.443878\n",
      "std     14.179210    3.321067   19.765969     2.329093    4.613460\n",
      "min      0.000000    0.000000    0.000000     0.000000    0.000000\n",
      "25%      0.000000    0.000000    1.000000     0.000000    0.000000\n",
      "50%      1.000000    0.000000    4.000000     0.000000    0.000000\n",
      "75%      6.000000    0.000000    9.000000     1.000000    4.000000\n",
      "max    118.000000   45.000000  158.000000    20.000000   37.000000\n"
     ]
    }
   ],
   "source": [
    "print(museum_types_city.describe())\n"
   ]
  },
  {
   "cell_type": "markdown",
   "metadata": {},
   "source": [
    "As can be seen above, history museums are the most common museum type around the world with an average of 10.7 histroy museums per city. Erotic, expectedly, is the least common with 0.5 per city, on average. "
   ]
  },
  {
   "cell_type": "markdown",
   "metadata": {},
   "source": [
    "### Which cities have the highest number of each museum type?"
   ]
  },
  {
   "cell_type": "markdown",
   "metadata": {},
   "source": [
    "In order to find the cities with the highest amount of each specific type of musuem, idxmax from the pandas module was used to find the index."
   ]
  },
  {
   "cell_type": "code",
   "execution_count": 42,
   "metadata": {},
   "outputs": [
    {
     "data": {
      "text/plain": [
       "Art                      Tokyo, Japan\n",
       "Erotic         Amsterdam, Netherlands\n",
       "History                  Tokyo, Japan\n",
       "Planetarium              Tokyo, Japan\n",
       "Science                Moscow, Russia\n",
       "dtype: object"
      ]
     },
     "execution_count": 42,
     "metadata": {},
     "output_type": "execute_result"
    }
   ],
   "source": [
    "museum_types_city.idxmax()"
   ]
  },
  {
   "cell_type": "markdown",
   "metadata": {},
   "source": [
    "Tokyo has the most Art and History museums as well as planetariums. Amsterdam, unsurprisingly has the most erotic museums and Moscow the most science museums."
   ]
  },
  {
   "cell_type": "markdown",
   "metadata": {},
   "source": [
    "### Which cities have the lowest number of each museum type?"
   ]
  },
  {
   "cell_type": "code",
   "execution_count": 88,
   "metadata": {},
   "outputs": [
    {
     "data": {
      "text/plain": [
       "Art            Abuja, Nigeria\n",
       "Erotic         Abuja, Nigeria\n",
       "History        Abuja, Nigeria\n",
       "Planetarium    Abuja, Nigeria\n",
       "Science        Abuja, Nigeria\n",
       "dtype: object"
      ]
     },
     "execution_count": 88,
     "metadata": {},
     "output_type": "execute_result"
    }
   ],
   "source": [
    "museum_types_city.idxmin()"
   ]
  },
  {
   "cell_type": "markdown",
   "metadata": {},
   "source": [
    "Abuja in Nigeria doesn't have any museums of the types used in this analysis."
   ]
  },
  {
   "cell_type": "code",
   "execution_count": 27,
   "metadata": {},
   "outputs": [],
   "source": [
    "museum_types_city.to_csv(\"/Users/datasandwich/Documents/GitHub/SDPA-CW/Part III/raw_data.csv\")"
   ]
  },
  {
   "cell_type": "markdown",
   "metadata": {},
   "source": [
    "### Post-normalisation"
   ]
  },
  {
   "cell_type": "code",
   "execution_count": 29,
   "metadata": {},
   "outputs": [],
   "source": [
    "df.to_csv(\"/Users/datasandwich/Documents/GitHub/SDPA-CW/Part III/normalised_data.csv\")"
   ]
  },
  {
   "cell_type": "markdown",
   "metadata": {},
   "source": [
    "### Histograms of columns"
   ]
  },
  {
   "cell_type": "markdown",
   "metadata": {},
   "source": [
    "In order to visualise the distribution of the data, histograms were plotted using the normalised data set:"
   ]
  },
  {
   "cell_type": "code",
   "execution_count": 30,
   "metadata": {
    "scrolled": false
   },
   "outputs": [
    {
     "data": {
      "text/plain": [
       "array([[<AxesSubplot:title={'center':'Art'}>,\n",
       "        <AxesSubplot:title={'center':'Erotic'}>],\n",
       "       [<AxesSubplot:title={'center':'History'}>,\n",
       "        <AxesSubplot:title={'center':'Planetarium'}>],\n",
       "       [<AxesSubplot:title={'center':'Science'}>, <AxesSubplot:>]],\n",
       "      dtype=object)"
      ]
     },
     "execution_count": 30,
     "metadata": {},
     "output_type": "execute_result"
    },
    {
     "data": {
      "image/png": "[encoded data removed]",
      "text/plain": [
       "<Figure size 576x396 with 6 Axes>"
      ]
     },
     "metadata": {},
     "output_type": "display_data"
    }
   ],
   "source": [
    "df.hist()"
   ]
  },
  {
   "cell_type": "markdown",
   "metadata": {},
   "source": [
    "### Data distribution plot"
   ]
  },
  {
   "cell_type": "markdown",
   "metadata": {},
   "source": [
    "In order to compare the distributions, seaborn was used to plot the distributions together."
   ]
  },
  {
   "cell_type": "code",
   "execution_count": 37,
   "metadata": {},
   "outputs": [
    {
     "name": "stderr",
     "output_type": "stream",
     "text": [
      "/Users/datasandwich/opt/anaconda3/lib/python3.8/site-packages/seaborn/distributions.py:2551: FutureWarning: `distplot` is a deprecated function and will be removed in a future version. Please adapt your code to use either `displot` (a figure-level function with similar flexibility) or `histplot` (an axes-level function for histograms).\n",
      "  warnings.warn(msg, FutureWarning)\n",
      "/Users/datasandwich/opt/anaconda3/lib/python3.8/site-packages/seaborn/distributions.py:2551: FutureWarning: `distplot` is a deprecated function and will be removed in a future version. Please adapt your code to use either `displot` (a figure-level function with similar flexibility) or `histplot` (an axes-level function for histograms).\n",
      "  warnings.warn(msg, FutureWarning)\n",
      "/Users/datasandwich/opt/anaconda3/lib/python3.8/site-packages/seaborn/distributions.py:2551: FutureWarning: `distplot` is a deprecated function and will be removed in a future version. Please adapt your code to use either `displot` (a figure-level function with similar flexibility) or `histplot` (an axes-level function for histograms).\n",
      "  warnings.warn(msg, FutureWarning)\n",
      "/Users/datasandwich/opt/anaconda3/lib/python3.8/site-packages/seaborn/distributions.py:2551: FutureWarning: `distplot` is a deprecated function and will be removed in a future version. Please adapt your code to use either `displot` (a figure-level function with similar flexibility) or `histplot` (an axes-level function for histograms).\n",
      "  warnings.warn(msg, FutureWarning)\n",
      "/Users/datasandwich/opt/anaconda3/lib/python3.8/site-packages/seaborn/distributions.py:2551: FutureWarning: `distplot` is a deprecated function and will be removed in a future version. Please adapt your code to use either `displot` (a figure-level function with similar flexibility) or `histplot` (an axes-level function for histograms).\n",
      "  warnings.warn(msg, FutureWarning)\n"
     ]
    },
    {
     "data": {
      "image/png": "[encoded data removed]",
      "text/plain": [
       "<Figure size 576x396 with 1 Axes>"
      ]
     },
     "metadata": {},
     "output_type": "display_data"
    }
   ],
   "source": [
    "art=museum_types_city[\"Art\"]\n",
    "history=museum_types_city[\"History\"]\n",
    "science=museum_types_city[\"Science\"]\n",
    "erotic=museum_types_city[\"Erotic\"]\n",
    "planetarium=museum_types_city[\"Planetarium\"]\n",
    "\n",
    "art_norm=df[\"Art\"]\n",
    "history_norm=df[\"History\"]\n",
    "science_norm=df[\"Science\"]\n",
    "erotic_norm=df[\"Erotic\"]\n",
    "planetarium_norm=df[\"Planetarium\"]\n",
    "\n",
    "sns.distplot(pd.DataFrame(art_norm),label='Art')\n",
    "sns.distplot(pd.DataFrame(history_norm),label='History')\n",
    "sns.distplot(pd.DataFrame(science_norm),label='Science')\n",
    "sns.distplot(pd.DataFrame(erotic_norm),label='Erotic')\n",
    "sns.distplot(pd.DataFrame(planetarium_norm),label='Planetarium')\n",
    "plt.legend()\n",
    "plt.show()"
   ]
  },
  {
   "cell_type": "markdown",
   "metadata": {},
   "source": [
    "### Removing extreme values to obtain a better visualisation of data distribution"
   ]
  },
  {
   "cell_type": "markdown",
   "metadata": {},
   "source": [
    "\n",
    "new_art_norm=[]\n",
    "new_history_norm=[]\n",
    "new_science_norm=[]\n",
    "new_erotic_norm=[]\n",
    "new_planetarium_norm=[]\n",
    "\n",
    "#Drop extreme values\n",
    "for i in range(len(art_norm)):\n",
    "    if (art_norm[i]!=0).any()==True:\n",
    "        new_art_norm.append(art_norm[i])\n",
    "    if (history_norm[i]!=100).any()==True:\n",
    "        new_history_norm.append(history_norm[i])\n",
    "    if (science_norm[i]!=0).any()==True:\n",
    "        new_science_norm.append(science_norm[i])\n",
    "    if (erotic_norm[i]!=0).any()==True:\n",
    "        new_erotic_norm.append(erotic_norm[i])\n",
    "    if (planetarium_norm[i]!=0).any()==True:\n",
    "        new_planetarium_norm.append(planetarium_norm[i])"
   ]
  },
  {
   "cell_type": "markdown",
   "metadata": {},
   "source": [
    "sns.distplot(pd.DataFrame(new_art_norm),label='Art')\n",
    "sns.distplot(pd.DataFrame(new_history_norm),label='History')\n",
    "sns.distplot(pd.DataFrame(new_science_norm),label='Science')\n",
    "sns.distplot(pd.DataFrame(new_erotic_norm),label='Erotic')\n",
    "sns.distplot(pd.DataFrame(new_planetarium_norm),label='Planetarium')\n",
    "plt.legend()\n",
    "plt.show()"
   ]
  },
  {
   "cell_type": "markdown",
   "metadata": {},
   "source": [
    "### Is there a correlation between different museum types?"
   ]
  },
  {
   "cell_type": "markdown",
   "metadata": {},
   "source": [
    "### Inter-column relationships (non-normalised)"
   ]
  },
  {
   "cell_type": "code",
   "execution_count": 58,
   "metadata": {},
   "outputs": [
    {
     "data": {
      "text/html": [
       "<div>\n",
       "<style scoped>\n",
       "    .dataframe tbody tr th:only-of-type {\n",
       "        vertical-align: middle;\n",
       "    }\n",
       "\n",
       "    .dataframe tbody tr th {\n",
       "        vertical-align: top;\n",
       "    }\n",
       "\n",
       "    .dataframe thead th {\n",
       "        text-align: right;\n",
       "    }\n",
       "</style>\n",
       "<table border=\"1\" class=\"dataframe\">\n",
       "  <thead>\n",
       "    <tr style=\"text-align: right;\">\n",
       "      <th></th>\n",
       "      <th>Art</th>\n",
       "      <th>Erotic</th>\n",
       "      <th>History</th>\n",
       "      <th>Planetarium</th>\n",
       "      <th>Science</th>\n",
       "    </tr>\n",
       "  </thead>\n",
       "  <tbody>\n",
       "    <tr>\n",
       "      <th>Art</th>\n",
       "      <td>1.000000</td>\n",
       "      <td>0.212440</td>\n",
       "      <td>0.924708</td>\n",
       "      <td>0.769582</td>\n",
       "      <td>0.877082</td>\n",
       "    </tr>\n",
       "    <tr>\n",
       "      <th>Erotic</th>\n",
       "      <td>0.212440</td>\n",
       "      <td>1.000000</td>\n",
       "      <td>0.252284</td>\n",
       "      <td>0.229652</td>\n",
       "      <td>0.176927</td>\n",
       "    </tr>\n",
       "    <tr>\n",
       "      <th>History</th>\n",
       "      <td>0.924708</td>\n",
       "      <td>0.252284</td>\n",
       "      <td>1.000000</td>\n",
       "      <td>0.796857</td>\n",
       "      <td>0.903511</td>\n",
       "    </tr>\n",
       "    <tr>\n",
       "      <th>Planetarium</th>\n",
       "      <td>0.769582</td>\n",
       "      <td>0.229652</td>\n",
       "      <td>0.796857</td>\n",
       "      <td>1.000000</td>\n",
       "      <td>0.752110</td>\n",
       "    </tr>\n",
       "    <tr>\n",
       "      <th>Science</th>\n",
       "      <td>0.877082</td>\n",
       "      <td>0.176927</td>\n",
       "      <td>0.903511</td>\n",
       "      <td>0.752110</td>\n",
       "      <td>1.000000</td>\n",
       "    </tr>\n",
       "  </tbody>\n",
       "</table>\n",
       "</div>"
      ],
      "text/plain": [
       "                  Art    Erotic   History  Planetarium   Science\n",
       "Art          1.000000  0.212440  0.924708     0.769582  0.877082\n",
       "Erotic       0.212440  1.000000  0.252284     0.229652  0.176927\n",
       "History      0.924708  0.252284  1.000000     0.796857  0.903511\n",
       "Planetarium  0.769582  0.229652  0.796857     1.000000  0.752110\n",
       "Science      0.877082  0.176927  0.903511     0.752110  1.000000"
      ]
     },
     "execution_count": 58,
     "metadata": {},
     "output_type": "execute_result"
    }
   ],
   "source": [
    "museum_types_city.corr()\n"
   ]
  },
  {
   "cell_type": "markdown",
   "metadata": {},
   "source": [
    "### Observations:"
   ]
  },
  {
   "cell_type": "code",
   "execution_count": 59,
   "metadata": {},
   "outputs": [
    {
     "data": {
      "text/plain": [
       "<seaborn.axisgrid.PairGrid at 0x7fce783bc1c0>"
      ]
     },
     "execution_count": 59,
     "metadata": {},
     "output_type": "execute_result"
    },
    {
     "data": {
      "image/png": "[encoded data removed]",
      "text/plain": [
       "<Figure size 900x900 with 25 Axes>"
      ]
     },
     "metadata": {},
     "output_type": "display_data"
    }
   ],
   "source": [
    "g = sns.PairGrid(museum_types_city, #vars=['Art', 'History', 'final_sec', 'split_frac'],\n",
    "                 #hue='gender',\n",
    "                 palette='RdBu_r')\n",
    "g.map(plt.scatter, alpha=0.8)\n",
    "#g.add_legend();"
   ]
  },
  {
   "cell_type": "markdown",
   "metadata": {},
   "source": [
    "Art and history museums have a strong positive correlation. All other museum types exhibit weak positive correlations between each other with the exception of erotic cinemas which don't demonstrate correlations."
   ]
  },
  {
   "cell_type": "markdown",
   "metadata": {},
   "source": [
    "# Step 4"
   ]
  },
  {
   "cell_type": "markdown",
   "metadata": {},
   "source": [
    "### Summary"
   ]
  },
  {
   "cell_type": "markdown",
   "metadata": {},
   "source": [
    "The aim of this exploratory data analysis was to investigate museums in capital cities by type. The analysis has shown a strong positive correlation between art and history museums. Erotic museums don't have any correlation with other museum types. The correlation analysis also showed that Art is the most likely museum type to be found paired with any of the types. Art and history museum densities in capital cities across the world exhibit a quasi-normal distribution. Nigera was found to have no museums of any of the types using idxmin, however this approach makes it ambiguous whether there exist other cities without any museums. Japan has the highest number of top rankings among the museum categories, having the most art, history and planetarium musems. Moscow has the most science museum and of course Amsterdam has the most erotic museums.\n"
   ]
  },
  {
   "cell_type": "markdown",
   "metadata": {},
   "source": [
    "### Future work"
   ]
  },
  {
   "cell_type": "markdown",
   "metadata": {},
   "source": [
    "Expanding the data set to include continents so that musuem type density comparisons can be carried out"
   ]
  }
 ],
 "metadata": {
  "kernelspec": {
   "display_name": "Python 3",
   "language": "python",
   "name": "python3"
  },
  "language_info": {
   "codemirror_mode": {
    "name": "ipython",
    "version": 3
   },
   "file_extension": ".py",
   "mimetype": "text/x-python",
   "name": "python",
   "nbconvert_exporter": "python",
   "pygments_lexer": "ipython3",
   "version": "3.8.5"
  }
 },
 "nbformat": 4,
 "nbformat_minor": 4
}
